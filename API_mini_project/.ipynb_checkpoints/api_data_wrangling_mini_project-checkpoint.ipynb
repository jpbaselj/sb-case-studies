{
 "cells": [
  {
   "cell_type": "markdown",
   "metadata": {},
   "source": [
    "This exercise will require you to pull some data from https://data.nasdaq.com/ (formerly Quandl API)."
   ]
  },
  {
   "cell_type": "markdown",
   "metadata": {},
   "source": [
    "As a first step, you will need to register a free account on the https://data.nasdaq.com/ website."
   ]
  },
  {
   "cell_type": "markdown",
   "metadata": {},
   "source": [
    "After you register, you will be provided with a unique API key, that you should store:\r\n",
    "\r\n",
    "*Note*: Use a `.env` file and put your key in there and `python-dotenv` to access it in this notebook. \r\n",
    "\r\n",
    "The code below uses a key that was used when generating this project but has since been deleted. Never submit your keys to source control. There is a `.env-example` file in this repository to illusrtate what you need. Copy that to a file called `.env` and use your own api key in that `.env` file. Make sure you also have a `.gitignore` file with a line for `.env` added to it. \r\n",
    "\r\n",
    "The standard Python gitignore is [here](https://github.com/github/gitignore/blob/master/Python.gitignore) you can just copy that. "
   ]
  },
  {
   "cell_type": "code",
   "execution_count": 1,
   "metadata": {},
   "outputs": [
    {
     "name": "stdout",
     "output_type": "stream",
     "text": [
      "dQRV4qfFbcSuX1y4RRXx\n"
     ]
    }
   ],
   "source": [
    "# get api key from your .env file\r",
    "# !pip install dotenv\n",
    "\n",
    "import os\r\n",
    "from dotenv import load_dotenv\r\n",
    "\r\n",
    "load_dotenv()\r\n",
    "API_KEY = os.getenv('NASDAQ_API_KEY')\r\n",
    "\r\n",
    "print(API_KEY)"
   ]
  },
  {
   "cell_type": "markdown",
   "metadata": {},
   "source": [
    "Nasdaq Data has a large number of data sources, but, unfortunately, most of them require a Premium subscription. Still, there are also a good number of free datasets."
   ]
  },
  {
   "cell_type": "markdown",
   "metadata": {},
   "source": [
    "For this mini project, we will focus on equities data from the Frankfurt Stock Exhange (FSE), which is available for free. We'll try and analyze the stock prices of a company called Carl Zeiss Meditec, which manufactures tools for eye examinations, as well as medical lasers for laser eye surgery: https://www.zeiss.com/meditec/int/home.html. The company is listed under the stock ticker AFX_X."
   ]
  },
  {
   "cell_type": "markdown",
   "metadata": {},
   "source": [
    "You can find the detailed Nasdaq Data API instructions here: https://docs.data.nasdaq.com/docs/in-depth-usage"
   ]
  },
  {
   "cell_type": "markdown",
   "metadata": {},
   "source": [
    "While there is a dedicated Python package for connecting to the Nasdaq API, we would prefer that you use the *requests* package, which can be easily downloaded using *pip* or *conda*. You can find the documentation for the package here: http://docs.python-requests.org/en/master/ "
   ]
  },
  {
   "cell_type": "markdown",
   "metadata": {},
   "source": [
    "Finally, apart from the *requests* package, you are encouraged to not use any third party Python packages, such as *pandas*, and instead focus on what's available in the Python Standard Library (the *collections* module might come in handy: https://pymotw.com/3/collections/).\n",
    "Also, since you won't have access to DataFrames, you are encouraged to us Python's native data structures - preferably dictionaries, though some questions can also be answered using lists.\n",
    "You can read more on these data structures here: https://docs.python.org/3/tutorial/datastructures.html"
   ]
  },
  {
   "cell_type": "markdown",
   "metadata": {},
   "source": [
    "Keep in mind that the JSON responses you will be getting from the API map almost one-to-one to Python's dictionaries. Unfortunately, they can be very nested, so make sure you read up on indexing dictionaries in the documentation provided above."
   ]
  },
  {
   "cell_type": "code",
   "execution_count": 2,
   "metadata": {},
   "outputs": [],
   "source": [
    "# First, import the relevant modules\n",
    "import requests\n",
    "import pandas as pd\n",
    "import json\n"
   ]
  },
  {
   "cell_type": "markdown",
   "metadata": {},
   "source": [
    "Note: API's can change a bit with each version, for this exercise it is reccomended to use the nasdaq api at `https://data.nasdaq.com/api/v3/`. This is the same api as what used to be quandl so `https://www.quandl.com/api/v3/` should work too.\r\n",
    "\r\n",
    "Hint: We are looking for the `AFX_X` data on the `datasets/FSE/` dataset."
   ]
  },
  {
   "cell_type": "code",
   "execution_count": 3,
   "metadata": {},
   "outputs": [],
   "source": [
    "# Now, call the Nasdaq API and pull out a small sample of the data (only one day) to get a glimpse\r\n",
    "# into the JSON structure that will be returd"
   ]
  },
  {
   "cell_type": "code",
   "execution_count": 4,
   "metadata": {},
   "outputs": [
    {
     "name": "stdout",
     "output_type": "stream",
     "text": [
      "{\n",
      "     \"dataset_data\": {\n",
      "          \"limit\": 1,\n",
      "          \"transform\": null,\n",
      "          \"column_index\": null,\n",
      "          \"column_names\": [\n",
      "               \"Date\",\n",
      "               \"Open\",\n",
      "               \"High\",\n",
      "               \"Low\",\n",
      "               \"Close\",\n",
      "               \"Change\",\n",
      "               \"Traded Volume\",\n",
      "               \"Turnover\",\n",
      "               \"Last Price of the Day\",\n",
      "               \"Daily Traded Units\",\n",
      "               \"Daily Turnover\"\n",
      "          ],\n",
      "          \"start_date\": \"2000-06-07\",\n",
      "          \"end_date\": \"2020-12-01\",\n",
      "          \"frequency\": \"daily\",\n",
      "          \"data\": [\n",
      "               [\n",
      "                    \"2020-12-01\",\n",
      "                    112.2,\n",
      "                    112.2,\n",
      "                    111.5,\n",
      "                    112.0,\n",
      "                    null,\n",
      "                    51.0,\n",
      "                    5703.0,\n",
      "                    null,\n",
      "                    null,\n",
      "                    null\n",
      "               ]\n",
      "          ],\n",
      "          \"collapse\": null,\n",
      "          \"order\": null\n",
      "     }\n",
      "}\n"
     ]
    }
   ],
   "source": [
    "Api_base = 'https://data.nasdaq.com/api/v3/'\n",
    "query = Api_base + 'datasets/FSE/AFX_X/data.json?limit=1?api_key=' + API_KEY\n",
    "r = requests.get(query)\n",
    "json_data = r.json()\n",
    "json_pretty_str = json.dumps(json_data, indent=5)\n",
    "print(json_pretty_str)"
   ]
  },
  {
   "cell_type": "code",
   "execution_count": 5,
   "metadata": {},
   "outputs": [],
   "source": [
    "# Inspect the JSON structure of the object you created, and take note of how nested it is,\r\n",
    "# as well as the overall structue\n",
    "\n",
    "#print(type(json_data_17['dataset_data']['data'][3][1]))\n",
    "#print(json_data_17['dataset_data']['data'][1])\n",
    "#print(json_data_17['dataset_data']['data'][2])e"
   ]
  },
  {
   "cell_type": "code",
   "execution_count": 6,
   "metadata": {},
   "outputs": [
    {
     "name": "stdout",
     "output_type": "stream",
     "text": [
      "limit\n",
      "<class 'str'>\n",
      "transform\n",
      "<class 'str'>\n",
      "column_index\n",
      "<class 'str'>\n",
      "column_names\n",
      "<class 'str'>\n",
      "start_date\n",
      "<class 'str'>\n",
      "end_date\n",
      "<class 'str'>\n",
      "frequency\n",
      "<class 'str'>\n",
      "data\n",
      "<class 'str'>\n",
      "collapse\n",
      "<class 'str'>\n",
      "order\n",
      "<class 'str'>\n"
     ]
    }
   ],
   "source": [
    "# print(type(json_pretty_str))\n",
    "# print(type(json_data))\n",
    "#print(json_data['dataset_data']['limit'])\n",
    "\n",
    "for guy in json_data['dataset_data']:\n",
    "    print(guy)\n",
    "    print(type(guy))"
   ]
  },
  {
   "cell_type": "markdown",
   "metadata": {},
   "source": [
    "These are your tasks for this mini project:\n",
    "\n",
    "1. Collect data from the Franfurt Stock Exchange, for the ticker AFX_X, for the whole year 2017 (keep in mind that the date format is YYYY-MM-DD).\n",
    "2. Convert the returned JSON object into a Python dictionary.\n",
    "3. Calculate what the highest and lowest opening prices were for the stock in this period.\n",
    "4. What was the largest change in any one day (based on High and Low price)?\n",
    "5. What was the largest change between any two days (based on Closing Price)?\n",
    "6. What was the average daily trading volume during this year?\n",
    "7. (Optional) What was the median trading volume during this year. (Note: you may need to implement your own function for calculating the median.)"
   ]
  },
  {
   "cell_type": "code",
   "execution_count": 7,
   "metadata": {},
   "outputs": [
    {
     "name": "stdout",
     "output_type": "stream",
     "text": [
      "<class 'dict'>\n"
     ]
    }
   ],
   "source": [
    "# task 1 - collect data from FSE for AFX_X for 2017\n",
    "query_2017 = Api_base + 'datasets/FSE/AFX_X/data.json?start_date=2017-01-01&end_date=2017-12-31&api_key=' + API_KEY\n",
    "r_2017 = requests.get(query_2017)\n",
    "\n",
    "# task 2 - turn into dict\n",
    "json_data_17 = r_2017.json()\n",
    "print(type(json_data_17))\n",
    "\n",
    "#json_pretty_str_17 = json.dumps(json_data_17, indent=5)\n",
    "#print(json_pretty_str_17)\n",
    "\n"
   ]
  },
  {
   "cell_type": "code",
   "execution_count": 8,
   "metadata": {},
   "outputs": [
    {
     "name": "stdout",
     "output_type": "stream",
     "text": [
      "53.11 34.0\n"
     ]
    }
   ],
   "source": [
    "# task 3 - highest and lowest open price\n",
    "open_price_list = []\n",
    "for day_data in json_data_17['dataset_data']['data']:\n",
    "    if type(day_data[1]) == type(1.00):\n",
    "        open_price = day_data[1]\n",
    "        open_price_list.append(open_price)\n",
    "\n",
    "maxx = max(open_price_list)\n",
    "minn = min(open_price_list)\n",
    "print(maxx, minn)"
   ]
  },
  {
   "cell_type": "code",
   "execution_count": 9,
   "metadata": {},
   "outputs": [
    {
     "name": "stdout",
     "output_type": "stream",
     "text": [
      "2.8100000000000023\n"
     ]
    }
   ],
   "source": [
    "# task 4 - largest change in one day\n",
    "price_delta_list = []\n",
    "for day_data in json_data_17['dataset_data']['data']:\n",
    "    if type(day_data[1]) == type(1.00):\n",
    "        price_delta = day_data[2] - day_data[3]\n",
    "        price_delta_list.append(price_delta)\n",
    "        \n",
    "max_price_change = max(price_delta_list)\n",
    "print(max_price_change)\n"
   ]
  },
  {
   "cell_type": "code",
   "execution_count": 10,
   "metadata": {},
   "outputs": [
    {
     "name": "stdout",
     "output_type": "stream",
     "text": [
      "19.03\n"
     ]
    }
   ],
   "source": [
    "# task 5 - Largest change between any two days (based on Closing Price)?\n",
    "# NOT specified that days must be consecutive(max closing - min closing)\n",
    "price_close_list = []\n",
    "for day_data in json_data_17['dataset_data']['data']:\n",
    "    if type(day_data[4]) == type(1.00):\n",
    "        price_cl = day_data[4]\n",
    "        price_close_list.append(price_cl)\n",
    "\n",
    "max_cl = max(price_close_list)\n",
    "min_cl = min(price_close_list)\n",
    "max_cl_delta = max_cl-min_cl\n",
    "print(max_cl_delta)\n"
   ]
  },
  {
   "cell_type": "code",
   "execution_count": 11,
   "metadata": {},
   "outputs": [
    {
     "name": "stdout",
     "output_type": "stream",
     "text": [
      "89124.33725490196\n"
     ]
    }
   ],
   "source": [
    "# task 6 - Average daily trading volume during this year\n",
    "from statistics import mean\n",
    "vol_list = []\n",
    "for day_data in json_data_17['dataset_data']['data']:\n",
    "    if type(day_data[6]) == type(1.00):\n",
    "        vol = day_data[6]\n",
    "        vol_list.append(vol)\n",
    "\n",
    "avg_daily_volume = mean(vol_list)\n",
    "print(avg_daily_volume)"
   ]
  },
  {
   "cell_type": "code",
   "execution_count": 12,
   "metadata": {},
   "outputs": [
    {
     "name": "stdout",
     "output_type": "stream",
     "text": [
      "76286.0\n"
     ]
    }
   ],
   "source": [
    "# task 7 - manually find median trading volume\n",
    "vol_list.sort()\n",
    "vol_list_sorted = vol_list\n",
    "half_idx = len(vol_list)//2\n",
    "median_vol = vol_list_sorted[half_idx]\n",
    "print(median_vol)"
   ]
  }
 ],
 "metadata": {
  "interpreter": {
   "hash": "7635eb1b9d0fe97add78a7368b6b431c09bb8ad5c42e437d64abdd99821c31ae"
  },
  "kernelspec": {
   "display_name": "Python 3 (ipykernel)",
   "language": "python",
   "name": "python3"
  },
  "language_info": {
   "codemirror_mode": {
    "name": "ipython",
    "version": 3
   },
   "file_extension": ".py",
   "mimetype": "text/x-python",
   "name": "python",
   "nbconvert_exporter": "python",
   "pygments_lexer": "ipython3",
   "version": "3.11.4"
  }
 },
 "nbformat": 4,
 "nbformat_minor": 4
}
