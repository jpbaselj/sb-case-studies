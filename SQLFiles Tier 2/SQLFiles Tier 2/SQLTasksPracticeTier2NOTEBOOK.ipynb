{
 "cells": [
  {
   "cell_type": "code",
   "execution_count": null,
   "id": "a5835c9f-3d29-4014-9dda-328b6f10a52f",
   "metadata": {},
   "outputs": [],
   "source": [
    "#!pip3 install sqlalchemy"
   ]
  },
  {
   "cell_type": "code",
   "execution_count": null,
   "id": "14e9f41e-b164-44bc-9da8-eed13f0e84b3",
   "metadata": {},
   "outputs": [],
   "source": [
    "import pandas as pd\n",
    "import numpy as np\n",
    "import sqlite3 as sql\n",
    "from sqlalchemy import create_engine"
   ]
  },
  {
   "cell_type": "code",
   "execution_count": null,
   "id": "35e90528-979e-43a2-90c3-286b5c8e2b94",
   "metadata": {},
   "outputs": [],
   "source": [
    "#connect to Database\n",
    "conn = sql.connect('sqlite_db_pythonsqlite.db')\n",
    "c = conn.cursor()\n",
    "\n",
    "#extract Members table as pd.df\n",
    "m_result = c.execute(\"SELECT * FROM Members\")\n",
    "members_df = pd.DataFrame(m_result.fetchall())\n",
    "m_colnames = list(map(lambda x: x[0], m_result.description))\n",
    "members_df.columns = m_colnames\n",
    "\n",
    "#print table to verify function of above code \n",
    "print(members_df.head())"
   ]
  },
  {
   "cell_type": "code",
   "execution_count": null,
   "id": "e35fc085-8b8d-42c1-9e7e-626af71d9f1c",
   "metadata": {},
   "outputs": [],
   "source": [
    "#extract Bookings table as pd.df\n",
    "b_result = c.execute(\"SELECT * FROM Bookings\")\n",
    "bookings_df = pd.DataFrame(b_result.fetchall())\n",
    "b_colnames = list(map(lambda x: x[0], b_result.description))\n",
    "bookings_df.columns = b_colnames\n",
    "\n",
    "print(bookings_df.head())"
   ]
  },
  {
   "cell_type": "code",
   "execution_count": null,
   "id": "03829af1-b212-4684-82c7-948bdd4e3069",
   "metadata": {},
   "outputs": [],
   "source": [
    "#extract Facilities table as pd.df\n",
    "f_result = c.execute(\"SELECT * FROM Facilities\")\n",
    "facilities_df = pd.DataFrame(f_result.fetchall())\n",
    "f_colnames = list(map(lambda x: x[0], f_result.description))\n",
    "facilities_df.columns = f_colnames\n",
    "\n",
    "print(facilities_df.head())\n",
    "\n",
    "#close conection to db\n",
    "conn.close()"
   ]
  },
  {
   "cell_type": "code",
   "execution_count": null,
   "id": "306d2653-6b83-4452-a4c8-5dd9ce1701ee",
   "metadata": {},
   "outputs": [],
   "source": [
    "'''Q10: Produce a list of facilities with a total revenue less than 1000.\n",
    "The output of facility name and total revenue, sorted by revenue. Remember\n",
    "that there's a different cost for guests and members! '''\n",
    "# left merge facility info to bookings entries\n",
    "b_f_df = bookings_df.merge(facilities_df, on='facid', how='left')\n",
    "\n",
    "#create revenut col\n",
    "b_f_df['revenue'] = np.where(b_f_df['memid'] == True, \n",
    "                             b_f_df['membercost'] * b_f_df['slots'],\n",
    "                             b_f_df['guestcost'] * b_f_df['slots'])\n",
    "totrevenue = b_f_df.groupby('name').agg('sum')\n",
    "print(totrevenue)\n",
    "Answer = totrevenue.loc[:,['revenue']]\n",
    "print(Answer)\n",
    "#print(b_f_df.head())"
   ]
  },
  {
   "cell_type": "code",
   "execution_count": null,
   "id": "55765b9a-db1c-43c3-80be-63734c956866",
   "metadata": {},
   "outputs": [],
   "source": [
    "b_f_df['revenue'] = np.where(b_f_df['memid'] == True, \n",
    "                             b_f_df['membercost'] * b_f_df['slots'],\n",
    "                             b_f_df['guestcost'] * b_f_df['slots'])\n",
    "\n",
    "#print(b_f_df.head())"
   ]
  },
  {
   "cell_type": "code",
   "execution_count": null,
   "id": "63d9d8c9-a5d9-4d03-b6a8-67ef02fb5210",
   "metadata": {},
   "outputs": [],
   "source": [
    "''' Q11: Produce a report of members and who recommended them in alphabetic surname,firstname order '''"
   ]
  },
  {
   "cell_type": "code",
   "execution_count": null,
   "id": "2d6baf2e-c039-435a-9a81-02cd7329b4c6",
   "metadata": {},
   "outputs": [],
   "source": [
    "''' Q12: Find the facilities with their usage by member, but not guests '''"
   ]
  },
  {
   "cell_type": "code",
   "execution_count": null,
   "id": "cf539135-93a2-45c7-a7c0-6c9a02a82d55",
   "metadata": {},
   "outputs": [],
   "source": [
    "''' Q13: Find the facilities usage by month, but not guests'''"
   ]
  },
  {
   "cell_type": "code",
   "execution_count": null,
   "id": "ab2f0917-bf12-48db-af8f-f4590111ba46",
   "metadata": {},
   "outputs": [],
   "source": []
  },
  {
   "cell_type": "code",
   "execution_count": null,
   "id": "a0d9ff99-22e8-4f49-8b36-884939dd6a42",
   "metadata": {},
   "outputs": [],
   "source": [
    "'''  EXPLORATORY SQL QUERIES FOR COMPARISON\n",
    "\n",
    "conn = sql.connect('sqlite_db_pythonsqlite.db')\n",
    "c = conn.cursor()\n",
    "result = c.execute(\n",
    "    \"\"\"WITH revenues AS(\n",
    "SELECT f.name AS facility,\n",
    "\tCASE WHEN memid = 0 THEN slots*guestcost\n",
    "\t\tWHEN memid != 0 THEN slots*membercost\n",
    "    \tEND AS revenue\n",
    "FROM Bookings as b\n",
    "        LEFT JOIN Facilities AS f\n",
    "        USING (facid)\n",
    "    )\n",
    "SELECT facility, sum(revenue) AS revenue\n",
    "FROM revenues    \n",
    "GROUP BY facility    \n",
    "HAVING revenue < 1000\n",
    "ORDER BY revenue DESC\"\"\"\n",
    ")\n",
    "df = pd.DataFrame(result.fetchall())\n",
    "conn.close()\n",
    "df.columns = ['Facility', 'Revenue']\n",
    "small_rev = df[df['Revenue'] < 1000]\n",
    "print(small_rev) \n",
    "'''"
   ]
  },
  {
   "cell_type": "code",
   "execution_count": null,
   "id": "18b9804f-97c8-422d-9434-6f4088a938a1",
   "metadata": {},
   "outputs": [],
   "source": [
    "'''    EXPLORATORY SQL QUERIES FOR COMPARISON\n",
    "\n",
    "conn = sql.connect('sqlite_db_pythonsqlite.db')\n",
    "c = conn.cursor()\n",
    "result = c.execute(\n",
    "    \"\"\"SELECT m1.surname||','||m1.firstname AS member_name, \n",
    "        m2.surname||','||m2.firstname AS recommended_by\n",
    "FROM Members as m1\n",
    "LEFT JOIN Members as m2\n",
    "\tON m1.recommendedby = m2.memid\n",
    "ORDER BY member_name\"\"\"\n",
    ")\n",
    "df = pd.DataFrame(result.fetchall())\n",
    "conn.close()\n",
    "df.columns = ['Member_name', 'Recommended_by']\n",
    "recs = df\n",
    "print(recs)\n",
    "'''"
   ]
  },
  {
   "cell_type": "code",
   "execution_count": null,
   "id": "15f9a380-593a-4c1e-8c29-41b779b9df52",
   "metadata": {},
   "outputs": [],
   "source": []
  }
 ],
 "metadata": {
  "kernelspec": {
   "display_name": "Python 3 (ipykernel)",
   "language": "python",
   "name": "python3"
  },
  "language_info": {
   "codemirror_mode": {
    "name": "ipython",
    "version": 3
   },
   "file_extension": ".py",
   "mimetype": "text/x-python",
   "name": "python",
   "nbconvert_exporter": "python",
   "pygments_lexer": "ipython3",
   "version": "3.11.4"
  }
 },
 "nbformat": 4,
 "nbformat_minor": 5
}
