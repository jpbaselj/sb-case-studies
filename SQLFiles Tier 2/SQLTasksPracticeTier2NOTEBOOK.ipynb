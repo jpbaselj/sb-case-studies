{
 "cells": [
  {
   "cell_type": "code",
   "execution_count": 1,
   "id": "a5835c9f-3d29-4014-9dda-328b6f10a52f",
   "metadata": {},
   "outputs": [],
   "source": [
    "#!pip3 install sqlalchemy"
   ]
  },
  {
   "cell_type": "code",
   "execution_count": 2,
   "id": "14e9f41e-b164-44bc-9da8-eed13f0e84b3",
   "metadata": {},
   "outputs": [],
   "source": [
    "import pandas as pd\n",
    "import numpy as np\n",
    "import sqlite3 as sql\n",
    "from sqlalchemy import create_engine"
   ]
  },
  {
   "cell_type": "code",
   "execution_count": 3,
   "id": "35e90528-979e-43a2-90c3-286b5c8e2b94",
   "metadata": {},
   "outputs": [
    {
     "name": "stdout",
     "output_type": "stream",
     "text": [
      "   memid   surname firstname                       address  zipcode  \\\n",
      "0      0     GUEST     GUEST                         GUEST        0   \n",
      "1      1     Smith    Darren    8 Bloomsbury Close, Boston     4321   \n",
      "2      2     Smith     Tracy  8 Bloomsbury Close, New York     4321   \n",
      "3      3    Rownam       Tim        23 Highway Way, Boston    23423   \n",
      "4      4  Joplette    Janice    20 Crossing Road, New York      234   \n",
      "\n",
      "        telephone recommendedby             joindate  \n",
      "0  (000) 000-0000                2012-07-01 00:00:00  \n",
      "1    555-555-5555                2012-07-02 12:02:05  \n",
      "2    555-555-5555                2012-07-02 12:08:23  \n",
      "3  (844) 693-0723                2012-07-03 09:32:15  \n",
      "4  (833) 942-4710             1  2012-07-03 10:25:05  \n"
     ]
    }
   ],
   "source": [
    "#connect to Database\n",
    "conn = sql.connect('sqlite_db_pythonsqlite.db')\n",
    "c = conn.cursor()\n",
    "\n",
    "#extract Members table as pd.df\n",
    "m_result = c.execute(\"SELECT * FROM Members\")\n",
    "members_df = pd.DataFrame(m_result.fetchall())\n",
    "m_colnames = list(map(lambda x: x[0], m_result.description))\n",
    "members_df.columns = m_colnames\n",
    "\n",
    "#print table to verify function of above code \n",
    "print(members_df.head())"
   ]
  },
  {
   "cell_type": "code",
   "execution_count": 4,
   "id": "e35fc085-8b8d-42c1-9e7e-626af71d9f1c",
   "metadata": {},
   "outputs": [
    {
     "name": "stdout",
     "output_type": "stream",
     "text": [
      "   bookid  facid  memid            starttime  slots\n",
      "0       0      3      1  2012-07-03 11:00:00      2\n",
      "1       1      4      1  2012-07-03 08:00:00      2\n",
      "2       2      6      0  2012-07-03 18:00:00      2\n",
      "3       3      7      1  2012-07-03 19:00:00      2\n",
      "4       4      8      1  2012-07-03 10:00:00      1\n"
     ]
    }
   ],
   "source": [
    "#extract Bookings table as pd.df\n",
    "b_result = c.execute(\"SELECT * FROM Bookings\")\n",
    "bookings_df = pd.DataFrame(b_result.fetchall())\n",
    "b_colnames = list(map(lambda x: x[0], b_result.description))\n",
    "bookings_df.columns = b_colnames\n",
    "\n",
    "print(bookings_df.head())"
   ]
  },
  {
   "cell_type": "code",
   "execution_count": 5,
   "id": "03829af1-b212-4684-82c7-948bdd4e3069",
   "metadata": {},
   "outputs": [
    {
     "name": "stdout",
     "output_type": "stream",
     "text": [
      "   facid             name  membercost  guestcost  initialoutlay  \\\n",
      "0      0   Tennis Court 1         5.0       25.0          10000   \n",
      "1      1   Tennis Court 2         5.0       25.0           8000   \n",
      "2      2  Badminton Court         0.0       15.5           4000   \n",
      "3      3     Table Tennis         0.0        5.0            320   \n",
      "4      4   Massage Room 1         9.9       80.0           4000   \n",
      "\n",
      "   monthlymaintenance  \n",
      "0                 200  \n",
      "1                 200  \n",
      "2                  50  \n",
      "3                  10  \n",
      "4                3000  \n"
     ]
    }
   ],
   "source": [
    "#extract Facilities table as pd.df\n",
    "f_result = c.execute(\"SELECT * FROM Facilities\")\n",
    "facilities_df = pd.DataFrame(f_result.fetchall())\n",
    "f_colnames = list(map(lambda x: x[0], f_result.description))\n",
    "facilities_df.columns = f_colnames\n",
    "\n",
    "print(facilities_df.head())\n",
    "\n",
    "#close conection to db\n",
    "conn.close()"
   ]
  },
  {
   "cell_type": "markdown",
   "id": "428fd147-3627-4372-8f94-3c565e25fcd4",
   "metadata": {},
   "source": [
    "'''Q10: Produce a list of facilities with a total revenue less than 1000.\n",
    "The output of facility name and total revenue, sorted by revenue. Remember\n",
    "that there's a different cost for guests and members! '''"
   ]
  },
  {
   "cell_type": "code",
   "execution_count": 6,
   "id": "306d2653-6b83-4452-a4c8-5dd9ce1701ee",
   "metadata": {},
   "outputs": [
    {
     "name": "stdout",
     "output_type": "stream",
     "text": [
      "               revenue\n",
      "name                  \n",
      "Pool Table       270.0\n",
      "Snooker Table    240.0\n",
      "Table Tennis     180.0\n"
     ]
    }
   ],
   "source": [
    "# left merge facility info to bookings entries\n",
    "b_f_df = bookings_df.merge(facilities_df, on='facid', how='left')\n",
    "#print(b_f_df.head())\n",
    "\n",
    "#create revenut col\n",
    "b_f_df['revenue'] = np.where(b_f_df['memid'] > 0, \n",
    "                             b_f_df['membercost'] * b_f_df['slots'],\n",
    "                             b_f_df['guestcost'] * b_f_df['slots'])\n",
    "name_revenue = b_f_df.loc[:,['name','revenue']]\n",
    "totrevenue = name_revenue.groupby('name').sum()\n",
    "ANS = totrevenue[totrevenue['revenue'] < 1000]\n",
    "print(ANS)"
   ]
  },
  {
   "cell_type": "markdown",
   "id": "f39c5f44-d740-4af8-98d3-dc5369070d0c",
   "metadata": {},
   "source": [
    "''' Q11: Produce a report of members and who recommended them in alphabetic surname,firstname order '''"
   ]
  },
  {
   "cell_type": "code",
   "execution_count": 7,
   "id": "55765b9a-db1c-43c3-80be-63734c956866",
   "metadata": {},
   "outputs": [
    {
     "name": "stdout",
     "output_type": "stream",
     "text": [
      "            Member   Recommended_by\n",
      "15  Bader,Florence  Stibbons,Ponder\n",
      "12      Baker,Anne  Stibbons,Ponder\n",
      "16   Baker,Timothy   Farrell,Jemima\n",
      "8       Boothe,Tim       Rownam,Tim\n",
      "5   Butters,Gerald     Smith,Darren\n"
     ]
    }
   ],
   "source": [
    "#select relevant columns from members dataframe\n",
    "m_recs = members_df.iloc[:,[0,1,2,6]]\n",
    "\n",
    "#convert id datatypes to be compatible\n",
    "m_recs.loc[:,'memid'] = pd.to_numeric(m_recs.loc[:,'memid'])\n",
    "m_recs.loc[:,'recommendedby'] = pd.to_numeric(m_recs.loc[:,'recommendedby'])\n",
    "\n",
    "# merge members to itself to link member IDs of recomendedby\n",
    "m_w_recs = m_recs.merge(m_recs, left_on='recommendedby', right_on='memid', how='left', suffixes=('','_rec'))\n",
    "\n",
    "#concatinate name strings to desired format\n",
    "m_w_recs['Member'] = m_w_recs['surname']+','+m_w_recs['firstname']\n",
    "m_w_recs['Recommended_by'] = m_w_recs['surname_rec']+','+m_w_recs['firstname_rec']\n",
    "\n",
    "pairs = m_w_recs[['Member','Recommended_by']]\n",
    "ANS = pairs.sort_values(by='Member')\n",
    "print(ANS.head())\n"
   ]
  },
  {
   "cell_type": "markdown",
   "id": "5fe6a322-afe6-4ebd-a301-459a36ed2441",
   "metadata": {},
   "source": [
    "''' Q12: Find the facilities with their usage by member, but not guests '''"
   ]
  },
  {
   "cell_type": "code",
   "execution_count": 8,
   "id": "2484876f-0357-4f19-af96-c997c517d468",
   "metadata": {},
   "outputs": [
    {
     "name": "stdout",
     "output_type": "stream",
     "text": [
      "name\n",
      "Badminton Court    344\n",
      "Massage Room 1     421\n",
      "Massage Room 2      27\n",
      "Pool Table         783\n",
      "Snooker Table      421\n",
      "Squash Court       195\n",
      "Table Tennis       385\n",
      "Tennis Court 1     308\n",
      "Tennis Court 2     276\n",
      "Name: bookid, dtype: int64\n"
     ]
    }
   ],
   "source": [
    "# (1/2) Q12 this answer for finding usage by ALL mambers\n",
    "# merge all dfs\n",
    "big_df = bookings_df.merge(facilities_df, on='facid', how='left').merge(members_df, on='memid', how='left')\n",
    "# isolate all records that apply to members\n",
    "members_only = big_df[big_df['memid'] != 0]\n",
    "\n",
    "# count number of uses of each facility 'name'\n",
    "f_counts = members_only.groupby('name')['bookid'].count()\n",
    "print(f_counts)"
   ]
  },
  {
   "cell_type": "code",
   "execution_count": 9,
   "id": "72dd39d2-c545-4af9-8fe0-a5a296916630",
   "metadata": {},
   "outputs": [
    {
     "name": "stdout",
     "output_type": "stream",
     "text": [
      "membername       Bader,Florence  Baker,Anne  Baker,Timothy  Boothe,Tim\n",
      "name                                                                  \n",
      "Badminton Court             9.0        10.0            7.0        12.0\n",
      "Massage Room 1              0.0         3.0           24.0        36.0\n",
      "Massage Room 2              2.0         2.0            0.0         0.0\n",
      "Pool Table                 23.0        12.0           85.0        25.0\n"
     ]
    },
    {
     "name": "stderr",
     "output_type": "stream",
     "text": [
      "/var/folders/_w/xxwqncbj69xfsg6qtjh7f1640000gn/T/ipykernel_13087/3076717328.py:8: SettingWithCopyWarning: \n",
      "A value is trying to be set on a copy of a slice from a DataFrame.\n",
      "Try using .loc[row_indexer,col_indexer] = value instead\n",
      "\n",
      "See the caveats in the documentation: https://pandas.pydata.org/pandas-docs/stable/user_guide/indexing.html#returning-a-view-versus-a-copy\n",
      "  formatted_df['membername'] = fm_df['surname'] + ',' + fm_df['firstname']\n"
     ]
    }
   ],
   "source": [
    "#pd.options.mode.chained_assignment = None\n",
    "# (2/2) Q12 this answer for finding usage by EACH member\n",
    "#strip to needed columns\n",
    "fm_df = members_only[['name', 'surname', 'firstname']]\n",
    "formatted_df = fm_df\n",
    "\n",
    "#format member name and isolate relevent columns\n",
    "formatted_df['membername'] = fm_df['surname'] + ',' + fm_df['firstname']\n",
    "formatted_short = formatted_df.iloc[:,[0,3]]\n",
    "    #print(formatted_short.head())\n",
    "\n",
    "# count how many instances of each facility match each member\n",
    "pivot = formatted_short.pivot_table(values='membername', index=['name'], \n",
    "                                    columns='membername', aggfunc=lambda x: x.value_counts().sum())\n",
    "# fill empty cells with zeros to clean table\n",
    "ANS_12 = pivot.fillna(value=0)\n",
    "\n",
    "print(ANS_12.iloc[:4,:4])       #verify answer format"
   ]
  },
  {
   "cell_type": "markdown",
   "id": "5aba19a1-5b49-41a9-9938-23764ae07bb8",
   "metadata": {},
   "source": [
    "''' Q13: Find the facilities usage by month, but not guests'''"
   ]
  },
  {
   "cell_type": "code",
   "execution_count": 10,
   "id": "ab2f0917-bf12-48db-af8f-f4590111ba46",
   "metadata": {},
   "outputs": [
    {
     "name": "stdout",
     "output_type": "stream",
     "text": [
      "name\n",
      "Badminton Court    1209\n",
      "Massage Room 1     1404\n",
      "Massage Room 2      228\n",
      "Pool Table          910\n",
      "Snooker Table       908\n",
      "Name: slots, dtype: int64\n"
     ]
    }
   ],
   "source": [
    "# left merge facility info to bookings entries\n",
    "bfdf = bookings_df.merge(facilities_df, on='facid', how='left')\n",
    "\n",
    "#extract month values from date time string\n",
    "bfdf['month'] = bfdf['starttime']\n",
    "bfdf['month'] = bfdf['month'].str.slice(start=5, stop=7)\n",
    "#print(bfdf.head())\n",
    "\n",
    "#Isolate relevant columns\n",
    "q13 = bfdf.loc[:,['name','bookid','slots']]\n",
    "#print(q13.head())\n",
    "\n",
    "facility_usage_total_slots = q13.groupby('name')['slots'].sum()\n",
    "print(facility_usage_total_slots.head())\n",
    "\n",
    "#f_counts = members_only.groupby('name')['bookid'].count()"
   ]
  },
  {
   "cell_type": "code",
   "execution_count": null,
   "id": "afdc4090-bc3b-456b-a548-c0247530d800",
   "metadata": {},
   "outputs": [],
   "source": []
  },
  {
   "cell_type": "code",
   "execution_count": null,
   "id": "9935586a-c596-4619-9d9d-31cac3ae0f57",
   "metadata": {},
   "outputs": [],
   "source": []
  },
  {
   "cell_type": "code",
   "execution_count": null,
   "id": "7d88b9c6-58a2-46d4-9a9e-333a1fdb7ed0",
   "metadata": {},
   "outputs": [],
   "source": []
  },
  {
   "cell_type": "code",
   "execution_count": null,
   "id": "a9ebc52a-0f02-4b43-8ac2-221f46760492",
   "metadata": {},
   "outputs": [],
   "source": []
  },
  {
   "cell_type": "markdown",
   "id": "19f7e817-dc68-4b05-a541-dcf0641cfc4e",
   "metadata": {},
   "source": [
    "'''  EXPLORATORY SQL QUERIES FOR COMPARISON\n",
    "\n",
    "conn = sql.connect('sqlite_db_pythonsqlite.db')\n",
    "c = conn.cursor()\n",
    "result = c.execute(\n",
    "    \"\"\"WITH revenues AS(\n",
    "SELECT f.name AS facility,\n",
    "\tCASE WHEN memid = 0 THEN slots*guestcost\n",
    "\t\tWHEN memid != 0 THEN slots*membercost\n",
    "    \tEND AS revenue\n",
    "FROM Bookings as b\n",
    "        LEFT JOIN Facilities AS f\n",
    "        USING (facid)\n",
    "    )\n",
    "SELECT facility, sum(revenue) AS revenue\n",
    "FROM revenues    \n",
    "GROUP BY facility    \n",
    "HAVING revenue < 1000\n",
    "ORDER BY revenue DESC\"\"\"\n",
    ")\n",
    "df = pd.DataFrame(result.fetchall())\n",
    "conn.close()\n",
    "df.columns = ['Facility', 'Revenue']\n",
    "small_rev = df[df['Revenue'] < 1000]\n",
    "print(small_rev) \n",
    "'''"
   ]
  },
  {
   "cell_type": "markdown",
   "id": "bf10d741-9537-482f-951d-e4e83809e4cc",
   "metadata": {},
   "source": [
    "'''    EXPLORATORY SQL QUERIES FOR COMPARISON\n",
    "\n",
    "conn = sql.connect('sqlite_db_pythonsqlite.db')\n",
    "c = conn.cursor()\n",
    "result = c.execute(\n",
    "    \"\"\"SELECT m1.surname||','||m1.firstname AS member_name, \n",
    "        m2.surname||','||m2.firstname AS recommended_by\n",
    "FROM Members as m1\n",
    "LEFT JOIN Members as m2\n",
    "\tON m1.recommendedby = m2.memid\n",
    "ORDER BY member_name\"\"\"\n",
    ")\n",
    "df = pd.DataFrame(result.fetchall())\n",
    "conn.close()\n",
    "df.columns = ['Member_name', 'Recommended_by']\n",
    "recs = df\n",
    "print(recs)\n",
    "'''"
   ]
  },
  {
   "cell_type": "code",
   "execution_count": null,
   "id": "15f9a380-593a-4c1e-8c29-41b779b9df52",
   "metadata": {},
   "outputs": [],
   "source": []
  }
 ],
 "metadata": {
  "kernelspec": {
   "display_name": "Python 3 (ipykernel)",
   "language": "python",
   "name": "python3"
  },
  "language_info": {
   "codemirror_mode": {
    "name": "ipython",
    "version": 3
   },
   "file_extension": ".py",
   "mimetype": "text/x-python",
   "name": "python",
   "nbconvert_exporter": "python",
   "pygments_lexer": "ipython3",
   "version": "3.11.4"
  }
 },
 "nbformat": 4,
 "nbformat_minor": 5
}
